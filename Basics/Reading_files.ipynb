{
 "cells": [
  {
   "cell_type": "code",
   "execution_count": 12,
   "metadata": {
    "collapsed": true
   },
   "outputs": [],
   "source": [
    "import tensorflow as tf\n",
    "from os.path import dirname, realpath, join"
   ]
  },
  {
   "cell_type": "code",
   "execution_count": 26,
   "metadata": {},
   "outputs": [],
   "source": [
    "dir=join(dirname(realpath(dirname('__file__'))),'tensorflow/Files')\n",
    "filename = dir + '/Olympics2016.csv'"
   ]
  },
  {
   "cell_type": "code",
   "execution_count": 31,
   "metadata": {},
   "outputs": [],
   "source": [
    "features = tf.placeholder(tf.int32, shape=[3], name='features')\n",
    "country = tf.placeholder(tf.string, name='country')\n",
    "total = tf.reduce_mean(features,name='total')"
   ]
  },
  {
   "cell_type": "code",
   "execution_count": 32,
   "metadata": {},
   "outputs": [],
   "source": [
    "printerop = tf.Print(total,[country,features,total], name='printer')"
   ]
  },
  {
   "cell_type": "code",
   "execution_count": 33,
   "metadata": {},
   "outputs": [
    {
     "name": "stdout",
     "output_type": "stream",
     "text": [
      "\"United States\" 40\n\"Great Britain\" 22\n\"China\" 23\n\"Russia\" 18\n\"Germany\" 14\n\"Japan\" 13\n\"France\" 14\n\"South Korea\" 7\n\"Italy\" 9\n\"Australia\" 9\n\"Netherlands\" 6\n\"Hungary\" 5\n\"Brazil\" 6\n\"Spain\" 5\n\"Kenya\" 4\n\"Jamaica\" 3\n\"Croatia\" 3\n\"Cuba\" 3\n\"New Zealand\" 6\n\"Canada\" 7\n\"Uzbekistan\" 4\n\"Kazakhstan\" 5\n\"Colombia\" 2\n\"Switzerland\" 2\n\"Iran\" 2\n\"Greece\" 2\n\"Argentina\" 1\n\"Denmark\" 5\n\"Sweden\" 3\n\"South Africa\" 3\n\"Ukraine\" 3\n\"Serbia\" 2\n\"Poland\" 3\n\"North Korea\" 2\n\"Belgium\" 2\n\"Thailand\" 2\n\"Slovakia\" 1\n\"Georgia\" 2\n\"Azerbaijan\" 6\n\"Belarus\" 3\n\"Turkey\" 2\n\"Armenia\" 1\n\"Czech Republic\" 3\n\"Ethiopia\" 2\n\"Slovenia\" 1\n\"Indonesia\" 1\n\"Romania\" 1\n\"Bahrain\" 0\n\"Vietnam\" 0\n\"Chinese Taipei\" 1\n\"Bahamas\" 0\n\"Ivory Coast\" 0\n\"Independent Olympic Athletes\" 0\n\"Fiji\" 0\n\"Jordan\" 0\n\"Kosovo\" 0\n\"Puerto Rico\" 0\n\"Singapore\" 0\n\"Tajikistan\" 0\n\"Malaysia\" 1\n\"Mexico\" 1\n\"Algeria\" 0\n\"Ireland\" 0\n\"Lithuania\" 1\n\"Bulgaria\" 1\n\"Venezuela\" 1\n\"India\" 0\n\"Mongolia\" 0\n\"Burundi\" 0\n\"Grenada\" 0\n\"Niger\" 0\n\"Philippines\" 0\n\"Qatar\" 0\n\"Norway\" 1\n\"Egypt\" 1\n\"Tunisia\" 1\n\"Israel\" 0\n\"Austria\" 0\n\"Dominican Republic\" 0\n\"Estonia\" 0\n\"Finland\" 0\n\"Morocco\" 0\n\"Moldova\" 0\n\"Nigeria\" 0\n\"Portugal\" 0\n\"Trinidad and Tobago\" 0\n\"United Arab Emirates\" 0\n"
     ]
    }
   ],
   "source": [
    "with tf.Session() as sess:\n",
    "    sess.run( tf.global_variables_initializer())\n",
    "    with open(filename) as inf:\n",
    "        next(inf)\n",
    "        for line in inf:\n",
    "            country_name, code, gold, silver, bronze, total= line.strip().split(\",\")\n",
    "            gold=int(gold)\n",
    "            silver=int(silver)\n",
    "            bronze=int(bronze)\n",
    "            total1=sess.run(printerop, feed_dict={features:[gold,silver,bronze], country:country_name})\n",
    "            print(country_name,total1)"
   ]
  },
  {
   "cell_type": "code",
   "execution_count": null,
   "metadata": {},
   "outputs": [],
   "source": [
    ""
   ]
  }
 ],
 "metadata": {
  "kernelspec": {
   "display_name": "Python 2",
   "language": "python",
   "name": "python2"
  },
  "language_info": {
   "codemirror_mode": {
    "name": "ipython",
    "version": 2.0
   },
   "file_extension": ".py",
   "mimetype": "text/x-python",
   "name": "python",
   "nbconvert_exporter": "python",
   "pygments_lexer": "ipython2",
   "version": "2.7.6"
  }
 },
 "nbformat": 4,
 "nbformat_minor": 0
}